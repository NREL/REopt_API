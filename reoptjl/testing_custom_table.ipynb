{
 "cells": [
  {
   "cell_type": "code",
   "execution_count": 7,
   "metadata": {},
   "outputs": [
    {
     "ename": "ModuleNotFoundError",
     "evalue": "No module named 'reoptjl'",
     "output_type": "error",
     "traceback": [
      "\u001b[0;31m---------------------------------------------------------------------------\u001b[0m",
      "\u001b[0;31mModuleNotFoundError\u001b[0m                       Traceback (most recent call last)",
      "Cell \u001b[0;32mIn[7], line 9\u001b[0m\n\u001b[1;32m      7\u001b[0m \u001b[38;5;28;01mimport\u001b[39;00m \u001b[38;5;21;01muuid\u001b[39;00m\n\u001b[1;32m      8\u001b[0m \u001b[38;5;28;01mfrom\u001b[39;00m \u001b[38;5;21;01mdjango\u001b[39;00m\u001b[38;5;21;01m.\u001b[39;00m\u001b[38;5;21;01mhttp\u001b[39;00m \u001b[38;5;28;01mimport\u001b[39;00m HttpRequest, HttpResponse, JsonResponse\n\u001b[0;32m----> 9\u001b[0m \u001b[38;5;28;01mfrom\u001b[39;00m \u001b[38;5;21;01mviews\u001b[39;00m \u001b[38;5;28;01mimport\u001b[39;00m \u001b[38;5;241m*\u001b[39m\n\u001b[1;32m     11\u001b[0m \u001b[38;5;66;03m# Disable warnings\u001b[39;00m\n\u001b[1;32m     12\u001b[0m \u001b[38;5;28;01mimport\u001b[39;00m \u001b[38;5;21;01murllib3\u001b[39;00m\n",
      "File \u001b[0;32m~/REopt_API/reoptjl/views.py:9\u001b[0m\n\u001b[1;32m      7\u001b[0m \u001b[38;5;28;01mfrom\u001b[39;00m \u001b[38;5;21;01mdjango\u001b[39;00m\u001b[38;5;21;01m.\u001b[39;00m\u001b[38;5;21;01mhttp\u001b[39;00m \u001b[38;5;28;01mimport\u001b[39;00m JsonResponse, HttpResponse\n\u001b[1;32m      8\u001b[0m \u001b[38;5;66;03m# from reo.exceptions import UnexpectedError\u001b[39;00m\n\u001b[0;32m----> 9\u001b[0m \u001b[38;5;28;01mfrom\u001b[39;00m \u001b[38;5;21;01mreoptjl\u001b[39;00m\u001b[38;5;21;01m.\u001b[39;00m\u001b[38;5;21;01mmodels\u001b[39;00m \u001b[38;5;28;01mimport\u001b[39;00m Settings, PVInputs, ElectricStorageInputs, WindInputs, GeneratorInputs, ElectricLoadInputs,\\\n\u001b[1;32m     10\u001b[0m     ElectricTariffInputs, ElectricUtilityInputs, SpaceHeatingLoadInputs, PVOutputs, ElectricStorageOutputs,\\\n\u001b[1;32m     11\u001b[0m     WindOutputs, ExistingBoilerInputs, GeneratorOutputs, ElectricTariffOutputs, ElectricUtilityOutputs, \\\n\u001b[1;32m     12\u001b[0m     ElectricLoadOutputs, ExistingBoilerOutputs, DomesticHotWaterLoadInputs, SiteInputs, SiteOutputs, APIMeta, \\\n\u001b[1;32m     13\u001b[0m     UserProvidedMeta, CHPInputs, CHPOutputs, CoolingLoadInputs, ExistingChillerInputs, ExistingChillerOutputs,\\\n\u001b[1;32m     14\u001b[0m     CoolingLoadOutputs, HeatingLoadOutputs, REoptjlMessageOutputs, HotThermalStorageInputs, HotThermalStorageOutputs,\\\n\u001b[1;32m     15\u001b[0m     ColdThermalStorageInputs, ColdThermalStorageOutputs, AbsorptionChillerInputs, AbsorptionChillerOutputs,\\\n\u001b[1;32m     16\u001b[0m     FinancialInputs, FinancialOutputs, UserUnlinkedRuns, BoilerInputs, BoilerOutputs, SteamTurbineInputs, \\\n\u001b[1;32m     17\u001b[0m     SteamTurbineOutputs, GHPInputs, GHPOutputs, ProcessHeatLoadInputs\n\u001b[1;32m     18\u001b[0m \u001b[38;5;28;01mimport\u001b[39;00m \u001b[38;5;21;01mos\u001b[39;00m\n\u001b[1;32m     19\u001b[0m \u001b[38;5;28;01mimport\u001b[39;00m \u001b[38;5;21;01mrequests\u001b[39;00m\n",
      "\u001b[0;31mModuleNotFoundError\u001b[0m: No module named 'reoptjl'"
     ]
    }
   ],
   "source": [
    "# test_script.py\n",
    "\n",
    "import pandas as pd\n",
    "import json\n",
    "import requests\n",
    "import io\n",
    "import uuid\n",
    "from django.http import HttpRequest, HttpResponse, JsonResponse\n",
    "from views import *\n",
    "\n",
    "# Disable warnings\n",
    "import urllib3\n",
    "urllib3.disable_warnings()\n",
    "\n",
    "def test_create_comparison_table(run_uuids):\n",
    "    # Create a mock request object\n",
    "    request = HttpRequest()\n",
    "    request.method = 'POST'\n",
    "    request.body = json.dumps({\"run_uuids\": run_uuids})\n",
    "    \n",
    "    # Call the create_comparison_table function with the mock request\n",
    "    response = create_comparison_table(request)\n",
    "\n",
    "    # Check the response type and print the appropriate result\n",
    "    if isinstance(response, HttpResponse):\n",
    "        if response.status_code == 200:\n",
    "            # Save the response content to an Excel file\n",
    "            with open(\"comparison_table.xlsx\", \"wb\") as f:\n",
    "                f.write(response.content)\n",
    "            print(\"Comparison table saved to 'comparison_table.xlsx'.\")\n",
    "        else:\n",
    "            print(f\"Error: {response.status_code} - {response.content.decode()}\")\n",
    "    elif isinstance(response, JsonResponse):\n",
    "        print(json.dumps(response.json(), indent=4))\n",
    "    else:\n",
    "        print(\"Unexpected response type.\")\n",
    "\n",
    "# Define the run UUIDs\n",
    "run_uuid_1 = \"4043a50f-52b9-482a-90dd-8f7ea417182a\"\n",
    "run_uuid_2 = \"3ccb973a-e9ed-405e-bb41-4fcb0f4bb9a5\"\n",
    "run_uuids = [run_uuid_1, run_uuid_2]\n",
    "\n",
    "# Run the test\n",
    "test_create_comparison_table(run_uuids)\n"
   ]
  }
 ],
 "metadata": {
  "kernelspec": {
   "display_name": "base",
   "language": "python",
   "name": "python3"
  },
  "language_info": {
   "codemirror_mode": {
    "name": "ipython",
    "version": 3
   },
   "file_extension": ".py",
   "mimetype": "text/x-python",
   "name": "python",
   "nbconvert_exporter": "python",
   "pygments_lexer": "ipython3",
   "version": "3.9.16"
  }
 },
 "nbformat": 4,
 "nbformat_minor": 2
}
