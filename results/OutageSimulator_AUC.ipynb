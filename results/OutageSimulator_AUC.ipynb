{
 "cells": [
  {
   "cell_type": "markdown",
   "metadata": {},
   "source": [
    "#### Users will need to change the input fields in **User Inputs** section and run the simulation at **result** section.\n",
    "\n",
    "Go to <a href='#user_input'>user inputs</a> / Go to <a href='#result'>results</a>"
   ]
  },
  {
   "cell_type": "code",
   "execution_count": 14,
   "metadata": {},
   "outputs": [
    {
     "output_type": "error",
     "ename": "ModuleNotFoundError",
     "evalue": "No module named 'matplotlib'",
     "traceback": [
      "\u001b[0;31m---------------------------------------------------------------------------\u001b[0m",
      "\u001b[0;31mModuleNotFoundError\u001b[0m                       Traceback (most recent call last)",
      "\u001b[0;32m<ipython-input-14-f17b40c536cc>\u001b[0m in \u001b[0;36m<module>\u001b[0;34m\u001b[0m\n\u001b[1;32m      1\u001b[0m \u001b[0;32mimport\u001b[0m \u001b[0mcsv\u001b[0m\u001b[0;34m\u001b[0m\u001b[0;34m\u001b[0m\u001b[0m\n\u001b[1;32m      2\u001b[0m \u001b[0;32mfrom\u001b[0m \u001b[0mmath\u001b[0m \u001b[0;32mimport\u001b[0m \u001b[0mfloor\u001b[0m\u001b[0;34m\u001b[0m\u001b[0;34m\u001b[0m\u001b[0m\n\u001b[0;32m----> 3\u001b[0;31m \u001b[0;32mimport\u001b[0m \u001b[0mmatplotlib\u001b[0m\u001b[0;34m.\u001b[0m\u001b[0mpyplot\u001b[0m \u001b[0;32mas\u001b[0m \u001b[0mplt\u001b[0m\u001b[0;34m\u001b[0m\u001b[0;34m\u001b[0m\u001b[0m\n\u001b[0m\u001b[1;32m      4\u001b[0m \u001b[0;32mimport\u001b[0m \u001b[0mmatplotlib\u001b[0m\u001b[0;34m.\u001b[0m\u001b[0mticker\u001b[0m \u001b[0;32mas\u001b[0m \u001b[0mticker\u001b[0m\u001b[0;34m\u001b[0m\u001b[0;34m\u001b[0m\u001b[0m\n\u001b[1;32m      5\u001b[0m \u001b[0;32mimport\u001b[0m \u001b[0mcopy\u001b[0m\u001b[0;34m\u001b[0m\u001b[0;34m\u001b[0m\u001b[0m\n",
      "\u001b[0;31mModuleNotFoundError\u001b[0m: No module named 'matplotlib'"
     ]
    }
   ],
   "source": [
    "import csv\n",
    "from math import floor\n",
    "import matplotlib.pyplot as plt\n",
    "import matplotlib.ticker as ticker\n",
    "import copy\n",
    "import sys\n",
    "import re\n",
    "import json\n",
    "import numpy as np\n",
    "from datetime import datetime\n",
    "import xlwt \n",
    "from xlwt import Workbook \n",
    "import matplotlib.dates as mdates\n"
   ]
  },
  {
   "cell_type": "markdown",
   "metadata": {},
   "source": [
    "#### Utilities"
   ]
  },
  {
   "cell_type": "code",
   "execution_count": 3,
   "metadata": {},
   "outputs": [],
   "source": [
    "def csv2list(file):\n",
    "    with open(file) as f:\n",
    "        floatlist = [list(map(float,l))[0] for l in csv.reader(f, delimiter=',')]\n",
    "    return floatlist\n",
    "\n",
    "def readInputs(file):\n",
    "    with open(file) as f:\n",
    "        inputs = json.load(f)\n",
    "    battCap = float(inputs[\"batt_kwh\"])\n",
    "    battPower = float(inputs[\"batt_kw\"])\n",
    "    genPower = float(inputs[\"generator_kw\"])\n",
    "    fuelavail = float(inputs[\"fuelavail\"])\n",
    "    pvsize = float(inputs[\"pv_kw\"])\n",
    "    windsize = float(inputs[\"wind_kw\"])\n",
    "\n",
    "    return battCap, battPower, genPower, fuelavail, pvsize\n",
    "\n",
    "def readInputsFromREoptResultsFile(file):\n",
    "    with open(file) as f:\n",
    "        inputs = json.load(f)\n",
    "    battCap = float(inputs[\"outputs\"][\"Storage\"][\"size_kwh\"])\n",
    "    battPower = float(inputs[\"outputs\"][\"Storage\"][\"size_kw\"])\n",
    "    genPower = float(inputs[\"outputs\"][\"Generator\"][\"size_kw\"])\n",
    "    fuelAvail = float(inputs[\"inputs\"][\"Generator\"][\"fuel_avail_gal\"])\n",
    "    pvProd = inputs[\"outputs\"][\"PV\"][\"year_one_power_production_series_kw\"]\n",
    "    windProd = inputs[\"outputs\"][\"Wind\"][\"year_one_power_production_series_kw\"]\n",
    "    load = inputs[\"inputs\"][\"LoadProfile\"][\"loads_kw\"]\n",
    "    soc = inputs[\"outputs\"][\"Storage\"][\"year_one_soc_series_pct\"]\n",
    "\n",
    "    return battCap, battPower, genPower, fuelAvail, pvProd, windProd, load, soc\n"
   ]
  },
  {
   "cell_type": "markdown",
   "metadata": {},
   "source": [
    "#### Generator"
   ]
  },
  {
   "cell_type": "code",
   "execution_count": 1,
   "metadata": {},
   "outputs": [],
   "source": [
    "class generator():\n",
    "    def __init__(self, diesel_kw, fuel_available, diesel_min_turndown=0.3):\n",
    "        self.kw = diesel_kw\n",
    "        self.fuel_available = fuel_available if self.kw > 0 else 0\n",
    "        m, b = self.default_fuel_burn_rate(diesel_kw)\n",
    "        self.m = m\n",
    "        self.b = b * self.kw\n",
    "        self.min_turndown = diesel_min_turndown\n",
    "        self.genmin = self.min_turndown * self.kw\n",
    "        \n",
    "    def default_fuel_burn_rate(self, diesel_kw):\n",
    "        if self.kw <= 40:\n",
    "            m = 0.068\n",
    "            b = 0.0125\n",
    "        elif self.kw <= 80:\n",
    "            m = 0.066\n",
    "            b = 0.0142\n",
    "        elif self.kw <= 150:\n",
    "            m = 0.0644\n",
    "            b = 0.0095\n",
    "        elif self.kw <= 250:\n",
    "            m = 0.0648\n",
    "            b = 0.0067\n",
    "        elif self.kw <= 750:\n",
    "            m = 0.0656\n",
    "            b = 0.0048\n",
    "        elif self.kw <= 1500:\n",
    "            m = 0.0657\n",
    "            b = 0.0043\n",
    "        else:\n",
    "            m = 0.0657\n",
    "            b = 0.004\n",
    "        return m, b\n",
    "\n",
    "    def gen_avail(self, n_steps_per_hour):  # kW\n",
    "        if self.fuel_available - self.b > 0:\n",
    "            return min((self.fuel_available * n_steps_per_hour - self.b) / self.m, self.kw)\n",
    "        else:\n",
    "            return 0\n",
    "\n",
    "    def fuel_consume(self, gen_output, n_steps_per_hour):  # kW\n",
    "        if self.gen_avail(n_steps_per_hour) >= self.genmin and gen_output > 0:\n",
    "            gen_output = max(self.genmin, min(gen_output, self.gen_avail(n_steps_per_hour)))\n",
    "            fuel_consume = (self.b + self.m * gen_output) / n_steps_per_hour \n",
    "            self.fuel_available -= min(self.fuel_available, fuel_consume)\n",
    "        else:\n",
    "            gen_output = 0\n",
    "        return gen_output\n"
   ]
  },
  {
   "cell_type": "markdown",
   "metadata": {},
   "source": [
    "#### Battery"
   ]
  },
  {
   "cell_type": "code",
   "execution_count": 2,
   "metadata": {},
   "outputs": [],
   "source": [
    "class battery():\n",
    "    def __init__(self, batt_kwh, batt_kw, batt_roundtrip_efficiency=0.89, soc=1.0):\n",
    "        self.kw = batt_kw\n",
    "        self.size = batt_kwh if self.kw > 0 else 0\n",
    "        self.soc = soc\n",
    "        self.roundtrip_efficiency = batt_roundtrip_efficiency\n",
    "\n",
    "    def batt_avail(self, n_steps_per_hour):  # kW\n",
    "        return min(self.size * self.soc * n_steps_per_hour, self.kw)\n",
    "\n",
    "    def batt_discharge(self, discharge, n_steps_per_hour):  # kW\n",
    "        discharge = min(self.batt_avail(n_steps_per_hour), discharge)\n",
    "        self.soc -= 0 if self.size == 0 else min(discharge / self.size / n_steps_per_hour, self.soc)\n",
    "        return discharge\n",
    "\n",
    "    def batt_charge(self, charge, n_steps_per_hour):  # kw\n",
    "        room = (1 - self.soc)   # if there's room in the battery\n",
    "        charge = min(room * n_steps_per_hour * self.size / self.roundtrip_efficiency, charge, self.kw / self.roundtrip_efficiency)\n",
    "        chargesoc = 0 if self.size == 0 else charge * self.roundtrip_efficiency / self.size / n_steps_per_hour\n",
    "        self.soc += chargesoc\n",
    "        return charge"
   ]
  },
  {
   "cell_type": "markdown",
   "metadata": {},
   "source": [
    "#### Dispatch Strategy - Load Following"
   ]
  },
  {
   "cell_type": "code",
   "execution_count": null,
   "metadata": {},
   "outputs": [],
   "source": [
    "def loadFollowing(critical_load, pv, wind, generator, battery, n_steps_per_hour):\n",
    "    \"\"\"\n",
    "    Dispatch strategy for one time step\n",
    "    \"\"\"\n",
    "\n",
    "    # distributed generation minus load is the burden on battery\n",
    "    unmatch = (critical_load - pv - wind)  # kw\n",
    "    discharge = 0\n",
    "    gen_output = 0\n",
    "    charge = 0\n",
    "    \n",
    "    if unmatch < 0:    # pv + wind> critical_load\n",
    "        # excess PV power to charge battery\n",
    "        charge = battery.batt_charge(-unmatch, n_steps_per_hour)\n",
    "        unmatch = 0\n",
    "\n",
    "    elif generator.genmin <= generator.gen_avail(n_steps_per_hour) and 0 < generator.kw:\n",
    "        gen_output = generator.fuel_consume(unmatch, n_steps_per_hour)\n",
    "        # charge battery with excess energy if unmatch < genmin\n",
    "        charge = battery.batt_charge(max(gen_output - unmatch, 0), n_steps_per_hour)  # prevent negative charge\n",
    "        discharge = battery.batt_discharge(max(unmatch - gen_output, 0), n_steps_per_hour)  # prevent negative discharge\n",
    "        unmatch -= (gen_output + discharge - charge)\n",
    "\n",
    "    elif unmatch <= battery.batt_avail(n_steps_per_hour):   # battery can carry balance\n",
    "        discharge = battery.batt_discharge(unmatch, n_steps_per_hour)\n",
    "        unmatch = 0\n",
    "    \n",
    "    stat = (gen_output, discharge, charge)\n",
    "    \n",
    "    return unmatch, stat, generator, battery"
   ]
  },
  {
   "cell_type": "markdown",
   "metadata": {},
   "source": [
    "#### Simulator"
   ]
  },
  {
   "cell_type": "code",
   "execution_count": null,
   "metadata": {},
   "outputs": [],
   "source": [
    "def simulator(strategy, generator, battery, critical_loads_kw, pv_kw_ac_hourly, wind_kw_ac_hourly, init_soc):\n",
    "    n_timesteps = len(critical_loads_kw)\n",
    "    n_steps_per_hour = n_timesteps / 8760  # type: int\n",
    "\n",
    "    r = [0] * n_timesteps\n",
    "\n",
    "    for time_step in range(n_timesteps):\n",
    "        gen = copy.deepcopy(generator)\n",
    "        batt = copy.deepcopy(battery)\n",
    "        # outer loop: do simulation starting at each time step\n",
    "        batt.soc = init_soc[time_step]   # reset battery for each simulation\n",
    "                \n",
    "        for i in range(n_timesteps):    # the i-th time step of simulation\n",
    "            # inner loop: step through all possible surviving time steps\n",
    "            # break inner loop if can not survive\n",
    "            t = (time_step + i) % n_timesteps\n",
    "\n",
    "            unmatch, stat, gen, batt = strategy(\n",
    "                        critical_loads_kw[t], pv_kw_ac_hourly[t], wind_kw_ac_hourly[t], gen, batt, n_steps_per_hour)\n",
    "\n",
    "            if unmatch > 0:  # cannot survive\n",
    "                r[time_step] = i\n",
    "                break\n",
    "            elif (i == (n_timesteps-1)) and (unmatch <=0): # can survive a full year\n",
    "                r[time_step] = i\n",
    "                break\n",
    "\n",
    "\n",
    "    r_min = min(r)\n",
    "    r_max = max(r)\n",
    "    r_avg = round((float(sum(r)) / float(len(r))), 2)\n",
    "\n",
    "    x_vals = range(1, int(floor(r_max)+1))\n",
    "    y_vals = list()\n",
    "\n",
    "    for hrs in x_vals:\n",
    "        y_vals.append(round(float(sum([1 if h >= hrs else 0 for h in r])) / float(n_timesteps), 4))\n",
    "\n",
    "    return {\"resilience_by_timestep\": r,\n",
    "            \"resilience_min_timestep\": r_min,\n",
    "            \"resilience_max_timestep\": r_max,\n",
    "            \"resilience_avg_timestep\": r_avg,\n",
    "            \"outage_durations\": x_vals,\n",
    "            \"probs_of_surviving\": y_vals,\n",
    "            }"
   ]
  },
  {
   "cell_type": "markdown",
   "metadata": {},
   "source": [
    "#### Run simulation, plot resilience curve, and write results to excel"
   ]
  },
  {
   "cell_type": "code",
   "execution_count": null,
   "metadata": {},
   "outputs": [],
   "source": [
    "def main(project, tag, json_input_path, battCap, battPower, genPower, fuelAvail, pvSize, windSize, output_path):\n",
    "    if project not in [None, \"\", \" \"]:\n",
    "        project = project + \"-\"\n",
    "        \n",
    "    if tag not in [None, \"\", \" \"]:\n",
    "        tag = \"_\" + tag\n",
    "    \n",
    "    if output_path in [None, \"\", \" \"]:\n",
    "        output_path = \"./\"\n",
    "        \n",
    "    if read_from_json:\n",
    "        # battCap, battPower, genPower, fuelavail, pvsize = readInputs(json_input_path)\n",
    "        battCap, battPower, genPower, fuelAvail, pvProd, windProd, load, soc = readInputsFromREoptResultsFile(json_input_path)\n",
    "    \n",
    "    # load = csv2list(load_path)\n",
    "    n_timesteps = len(load)\n",
    "    n_steps_per_hour = n_timesteps / 8760\n",
    "    empty_array = [0] * n_timesteps\n",
    "        \n",
    "    # soc = csv2list(soc_path) if soc_path else empty_array\n",
    "    # pv_factor = csv2list(pv_pf_path) if pv_pf_path else empty_array\n",
    "    # wind_factor = csv2list(wind_pf_path) if wind_pf_path else empty_array\n",
    "        \n",
    "    pv_kw_ac_hourly = pvProd#[f*pvSize for f in pv_factor]\n",
    "    wind_kw_ac_hourly = windProd#[f*windSize for f in wind_factor]\n",
    "    \n",
    "    inputsRE = {\n",
    "        'batt_kwh': battCap,\n",
    "        'batt_kw': battPower,\n",
    "        'pv_kw_ac_hourly': pv_kw_ac_hourly,\n",
    "        'wind_kw_ac_hourly': wind_kw_ac_hourly,\n",
    "        'critical_loads_kw': load,\n",
    "        'init_soc': soc,\n",
    "        'diesel_kw': genPower,\n",
    "        'fuel_available': fuelAvail\n",
    "    }\n",
    "\n",
    "    inputs = copy.deepcopy(inputsRE)\n",
    "    inputs['pv_kw_ac_hourly'] = empty_array\n",
    "    inputs['wind_kw_ac_hourly'] = empty_array\n",
    "    inputs['init_soc'] = empty_array\n",
    "    \n",
    "\n",
    "    REfactor = sum(pv_kw_ac_hourly)/sum(load)\n",
    "    print(\"Renewable Energy Factor:{}\".format(round(REfactor,3)))\n",
    "\n",
    "    GEN = generator(**{k: inputs[k] for k in generator.__init__.__code__.co_varnames if k in inputs})\n",
    "    BATT = battery(**{k: inputs[k] for k in battery.__init__.__code__.co_varnames if k in inputs})\n",
    "\n",
    "    resp = simulator(loadFollowing, GEN, BATT, **{k: inputs[k] for k in simulator.__code__.co_varnames if k in inputs})\n",
    "    respRE = simulator(loadFollowing, GEN, BATT, **{k: inputsRE[k] for k in simulator.__code__.co_varnames if k in inputsRE})\n",
    "\n",
    "    r = resp[\"resilience_by_timestep\"]\n",
    "    rmax = resp[\"resilience_max_timestep\"]\n",
    "    y_vals = resp[\"probs_of_surviving\"]\n",
    "    \n",
    "\n",
    "    rRE = respRE[\"resilience_by_timestep\"]\n",
    "    rmaxRE = respRE[\"resilience_max_timestep\"]\n",
    "    y_valsRE = respRE[\"probs_of_surviving\"]\n",
    "\n",
    "    def writeResult(resp, file_name, path):\n",
    "        wb = Workbook() \n",
    "        \n",
    "        sheet1 = wb.add_sheet('Result') \n",
    "        sheet1.write(0, 1, 'Timesteps') \n",
    "        sheet1.write(1, 0, 'max resilience')\n",
    "        sheet1.write(1, 1, resp[\"resilience_max_timestep\"])\n",
    "        sheet1.write(2, 0, 'min resilience')\n",
    "        sheet1.write(2, 1, resp[\"resilience_min_timestep\"]) \n",
    "        sheet1.write(3, 0, 'avg resilience')\n",
    "        sheet1.write(3, 1, resp[\"resilience_avg_timestep\"])\n",
    "\n",
    "        sheet2 = wb.add_sheet('resilience_by_timestep') \n",
    "        for i, v in enumerate(resp[\"resilience_by_timestep\"]):\n",
    "            sheet2.write(i, 0, v) \n",
    "\n",
    "        sheet3 = wb.add_sheet('probs_of_surviving') \n",
    "        for i, v in enumerate(resp[\"probs_of_surviving\"]):\n",
    "            sheet3.write(i, 0, v)\n",
    "\n",
    "        wb.save(path + '{}.xls'.format(file_name))\n",
    "    \n",
    "    writeResult(resp, \"Diesel Only{}\".format(tag), output_path)\n",
    "    writeResult(respRE, \"Diesel + RE{}\".format(tag), output_path)\n",
    "\n",
    "    m = int(max(rmax, rmaxRE))\n",
    "    y_vals = y_vals + [0] * int(m - rmax + 1)\n",
    "    y_valsRE = y_valsRE + [0] * int(m - rmaxRE + 1)\n",
    "\n",
    "    hr = [i*3600/n_steps_per_hour for i in range(n_timesteps)]\n",
    "    x1 = [datetime.utcfromtimestamp(h).strftime(\"%Y-%m-%dT%H\") for h in hr]\n",
    "    x1 = np.array(x1, dtype='datetime64')\n",
    "    x2 = [float(i)/float(n_steps_per_hour) for i in range(m+1)]\n",
    "    \n",
    "    months = mdates.MonthLocator()  # every month\n",
    "    monthFmt = mdates.DateFormatter('%b')\n",
    "    \n",
    "    r = [float(q)/float(n_steps_per_hour) for q in r] if n_steps_per_hour != 1 else r\n",
    "    rRE = [float(q)/float(n_steps_per_hour) for q in rRE] if n_steps_per_hour != 1 else rRE\n",
    "    \n",
    "    dpi = 200\n",
    "    fig, ax1 = plt.subplots(figsize=(2200/dpi, 900/dpi), dpi=dpi)\n",
    "    ax1.fill_between(x1, 0, r, alpha=0.3)\n",
    "    ax1.fill_between(x1, r, rRE, alpha=0.5)\n",
    "    ax1.plot(x1, r, linewidth=1.5)\n",
    "    ax1.plot(x1, rRE, linewidth=1.5)\n",
    "    ax1.xaxis.set_major_locator(months)\n",
    "    ax1.xaxis.set_major_formatter(monthFmt)\n",
    "    ax1.set_ylabel('Survived hours')\n",
    "    ax1.set_xlabel('Outage start timestep')\n",
    "    ax1.legend(['Diesel Only', 'Diesel + RE'])\n",
    "    ax1.set_title(project + \"Resilience by timestep\")\n",
    "\n",
    "    plt.ylim((0,float(m+1)/float(n_steps_per_hour)))\n",
    "    datemin = np.datetime64(x1[0], 'm')\n",
    "    datemax = np.datetime64(x1[-1], 'm') + np.timedelta64(1, 'm')\n",
    "    ax1.set_xlim(datemin, datemax)\n",
    "\n",
    "    plt.savefig(project + \"Resiliency{}.png\".format(tag))\n",
    "\n",
    "    fig, ax2 = plt.subplots(figsize=(2200/dpi, 900/dpi), dpi=dpi)\n",
    "    ax2.plot(x2, y_vals, linewidth=1.5)\n",
    "    ax2.plot(x2, y_valsRE, linewidth=1.5)\n",
    "    ax2.set_ylabel(\"Probability of Surviving Outage\")\n",
    "    ax2.set_xlabel(\"Duration of Outage (timesteps)\")\n",
    "    ax2.legend(['Diesel Only', 'Diesel+RE'])\n",
    "    ax2.set_title(project + \"Survivability\")\n",
    "    plt.ylim((0,1.1))\n",
    "    plt.xlim((0,float(m+1)/float(n_steps_per_hour)))\n",
    "    plt.savefig(project + \"Probability of Survival{}.png\".format(tag))\n",
    "    "
   ]
  },
  {
   "cell_type": "markdown",
   "metadata": {},
   "source": [
    "## User Inputs\n",
    "<a id='user_input'></a>"
   ]
  },
  {
   "cell_type": "markdown",
   "metadata": {},
   "source": [
    "Give your simulation a descriptive *project name* and *tag*. \n",
    "Project name will show in plot titles, and tag will append at the end of the output file names."
   ]
  },
  {
   "cell_type": "code",
   "execution_count": null,
   "metadata": {},
   "outputs": [],
   "source": [
    "project = \"Sierra Army Depot\"\n",
    "#tag = \"200 kW critical load\" #commented out here for AUC, moved below"
   ]
  },
  {
   "cell_type": "markdown",
   "metadata": {},
   "source": [
    "Specify the path for ouput files. None if not specified and the file will be stored in the current directory."
   ]
  },
  {
   "cell_type": "code",
   "execution_count": null,
   "metadata": {},
   "outputs": [],
   "source": [
    "output_path = None#\"//nrel.gov/shared/7A40/Renewable Energy Optimization/REO 3.0/Projects/AUC/Outage simulator/outputs/\""
   ]
  },
  {
   "cell_type": "markdown",
   "metadata": {},
   "source": [
    "Do you have all your system sizes in a json file? Where is the file?"
   ]
  },
  {
   "cell_type": "code",
   "execution_count": null,
   "metadata": {},
   "outputs": [],
   "source": [
    "read_from_json = True  # True or False\n",
    "json_input_path = \"./SIAD_results_BAU.json\""
   ]
  },
  {
   "cell_type": "markdown",
   "metadata": {},
   "source": [
    "A valid file may have these fields:\n",
    "```\n",
    "    {\n",
    "        \"battCap\": 0,\n",
    "        \"battPower\": 0,\n",
    "        \"genPower\": 1000,\n",
    "        \"fuelAvail\": 4000,\n",
    "        \"pvSize\": 200,\n",
    "        \"windSize\": 0\n",
    "    }\n",
    "```"
   ]
  },
  {
   "cell_type": "markdown",
   "metadata": {},
   "source": [
    "If not, fill in the required system sizes (fill in *0* if the systme is not available/not exist):"
   ]
  },
  {
   "cell_type": "code",
   "execution_count": null,
   "metadata": {},
   "outputs": [],
   "source": [
    "# battCap = 0  # kwh\n",
    "# #battDuration_list = [0,4,8,12,16,24] #hrs; added for AUC \n",
    "# battPower = 0  # kw\n",
    "# #battPower_list = [400]  # kw\n",
    "# genPower = 2610  # kw\n",
    "# fuelAvail = 36000  # gallon\n",
    "# pvSize = 3100  # kw-DC\n",
    "# windSize = 0  # kw"
   ]
  },
  {
   "cell_type": "markdown",
   "metadata": {},
   "source": [
    "#### File locations - critical load, PV production factor, and storage SOC. \n",
    "fill in *None* if the data is not available because the system size is 0."
   ]
  },
  {
   "cell_type": "code",
   "execution_count": null,
   "metadata": {},
   "outputs": [],
   "source": [
    "# load_path = \"SAID_load_just_values.csv\"  # kw\n",
    "# #soc_path = \"//nrel.gov/shared/7A40/Renewable Energy Optimization/REO 3.0/Projects/AUC/Outage simulator/AUC_SOC-always charged.csv\"  # 0 ~ 1.0\n",
    "# pv_pf_path = \"//nrel.gov/shared/7A40/Renewable Energy Optimization/REO 3.0/Projects/AUC/Outage simulator/AUC_PVprodfactor.csv\" # 0 ~ 1.0\n",
    "# wind_pf_path = None # 0 ~ 1.0"
   ]
  },
  {
   "cell_type": "markdown",
   "metadata": {},
   "source": [
    "## Run simulation and get results\n",
    "<a id='result'></a>"
   ]
  },
  {
   "cell_type": "code",
   "execution_count": null,
   "metadata": {},
   "outputs": [],
   "source": [
    "tag = str(battPower) + \" kW critical load - \" + str(dur) + \"-hr battery\"\n",
    "main(project, tag, json_input_path, battCap, battPower, genPower, fuelAvail, pvSize, windSize, output_path)\n",
    "# ownership_model_list = [\"third_party\",\"dir_purch\"]\n",
    "# for battPower in battPower_list:\n",
    "#     #load_path = \"//nrel.gov/shared/7A40/Renewable Energy Optimization/REO 3.0/Projects/AUC/Outage simulator/AUC-critload-peak \" + str(battPower) +\"kw.csv\"  # kw\n",
    "#     for dur in battDuration_list:\n",
    "#         for ownership_model in ownership_model_list:\n",
    "#             battCap_tot = dur*battPower  # kwh\n",
    "#             battCap = (1-0.2)*battCap_tot #usable kwh (considering min SOC)\n",
    "#             soc_path = \"C://Users/kkrah/Documents/GitHub/REopt-API-Analysis/single_site/BreakingBarriers/outputs/batt_soc_\"+ ownership_model + str(dur) + \"hr-BESS_2019-RTP.csv\"\n",
    "#             tag = str(dur) + \"-hr battery-\" + ownership_model\n",
    "#             print(tag, \": \", battCap_tot, battPower, dur, pvSize)\n",
    "#             main(project, tag, json_input_path, battCap, battPower, genPower, fuelAvail, pvSize, windSize, output_path)"
   ]
  },
  {
   "cell_type": "code",
   "execution_count": 109,
   "metadata": {},
   "outputs": [
    {
     "name": "stdout",
     "output_type": "stream",
     "text": [
      "0\n",
      "1\n",
      "2\n",
      "3\n",
      "4\n",
      "5\n",
      "6\n",
      "7\n",
      "8\n"
     ]
    }
   ],
   "source": []
  },
  {
   "cell_type": "code",
   "execution_count": null,
   "metadata": {},
   "outputs": [],
   "source": []
  },
  {
   "cell_type": "code",
   "execution_count": null,
   "metadata": {},
   "outputs": [],
   "source": []
  }
 ],
 "metadata": {
  "@webio": {
   "lastCommId": null,
   "lastKernelId": null
  },
  "kernelspec": {
   "name": "python3",
   "display_name": "Python 3.6.13 64-bit",
   "metadata": {
    "interpreter": {
     "hash": "4cd7ab41f5fca4b9b44701077e38c5ffd31fe66a6cab21e0214b68d958d0e462"
    }
   }
  },
  "language_info": {
   "codemirror_mode": {
    "name": "ipython",
    "version": 3
   },
   "file_extension": ".py",
   "mimetype": "text/x-python",
   "name": "python",
   "nbconvert_exporter": "python",
   "pygments_lexer": "ipython3",
   "version": "3.6.13"
  }
 },
 "nbformat": 4,
 "nbformat_minor": 2
}