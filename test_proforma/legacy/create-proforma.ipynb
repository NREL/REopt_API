{
 "cells": [
  {
   "cell_type": "code",
   "execution_count": 1,
   "id": "96b46606-b30e-4756-abf5-1af01d65df8f",
   "metadata": {
    "tags": []
   },
   "outputs": [],
   "source": [
    "import xlsxwriter\n",
    "import pandas as pd\n",
    "import json\n",
    "import numpy as np\n",
    "from proforma_functions import *"
   ]
  },
  {
   "cell_type": "code",
   "execution_count": 2,
   "id": "17cc6755-480b-441a-865c-c38b11ed43a8",
   "metadata": {
    "tags": []
   },
   "outputs": [
    {
     "name": "stdout",
     "output_type": "stream",
     "text": [
      "3.1.9\n"
     ]
    }
   ],
   "source": [
    "print(xlsxwriter.__version__)"
   ]
  },
  {
   "cell_type": "markdown",
   "id": "e3725007-7d34-4a03-b88a-550a43d8f793",
   "metadata": {
    "tags": []
   },
   "source": [
    "## Test proforma tech-by-tech"
   ]
  },
  {
   "cell_type": "code",
   "execution_count": 3,
   "id": "6a20069e-febe-4910-8a30-360f9bc53b9e",
   "metadata": {
    "tags": []
   },
   "outputs": [],
   "source": [
    "with open('posts/CHP_only.json') as f:\n",
    "    results = json.load(f)"
   ]
  },
  {
   "cell_type": "code",
   "execution_count": 4,
   "id": "6a1944de-32a9-40a5-b156-d33d17b654b3",
   "metadata": {
    "tags": []
   },
   "outputs": [
    {
     "data": {
      "text/plain": [
       "dict_keys(['Financial', 'ElectricTariff', 'ElectricUtility', 'ElectricLoad', 'Site', 'PV', 'ExistingBoiler', 'CHP', 'HeatingLoad'])"
      ]
     },
     "execution_count": 4,
     "metadata": {},
     "output_type": "execute_result"
    }
   ],
   "source": [
    "results['outputs'].keys()"
   ]
  },
  {
   "cell_type": "markdown",
   "id": "285ac550-f759-4fa6-9973-b63b6db20f8f",
   "metadata": {},
   "source": [
    "## Create workbook"
   ]
  },
  {
   "cell_type": "code",
   "execution_count": 5,
   "id": "51a8a623-e910-4845-a946-5f8f0456ec21",
   "metadata": {
    "tags": []
   },
   "outputs": [],
   "source": [
    "# Create a workbook and three worksheets.\n",
    "proforma = xlsxwriter.Workbook('proforma.xlsx')\n",
    "\n",
    "mapping = pd.read_csv('mapping.csv')\n",
    "mapping_static = pd.read_csv('static_fields.csv')\n",
    "\n",
    "base_upper_case_letters = ['A', 'B', 'C', 'D', 'E', 'F', 'G', 'H', 'I', 'J', 'K', 'L', 'M', 'N', 'O', 'P', 'Q', 'R', 'S',\n",
    "                          'T', 'U', 'V', 'W', 'X', 'Y', 'Z', 'AA']"
   ]
  },
  {
   "cell_type": "code",
   "execution_count": 6,
   "id": "327e6c13-ca91-4d08-8da4-db965b657f8b",
   "metadata": {
    "scrolled": true
   },
   "outputs": [
    {
     "name": "stdout",
     "output_type": "stream",
     "text": [
      "error on  outputs Wind size_kw\n",
      "error on  outputs Generator size_kw\n",
      "error on  outputs ElectricStorage size_kw\n",
      "error on  outputs ElectricStorage size_kwh\n",
      "error on  outputs AbsorptionChiller size_ton\n",
      "error on  outputs ColdThermalStorage size_gal\n",
      "error on  outputs HotThermalStorage size_gal\n",
      "error on  outputs SteamTurbine size_kw\n",
      "error on  outputs GHP size_heat_pump_ton\n",
      "error on  outputs Wind annual_energy_produced_kwh\n",
      "error on  outputs Wind annual_energy_produced_kwh\n",
      "error on  outputs Generator annual_energy_produced_kwh\n",
      "error on  outputs Generator annual_energy_produced_kwh\n",
      "error on  outputs SteamTurbine annual_electric_production_kwh\n",
      "error on  outputs SteamTurbine annual_electric_production_kwh\n",
      "error on  outputs SteamTurbine annual_thermal_production_mmbtu\n",
      "error on  inputs Wind installed_cost_per_kw\n",
      "error on  outputs Wind size_kw\n",
      "error on  outputs Generator size_kw\n",
      "error on  inputs ElectricStorage installed_cost_per_kwh\n",
      "error on  outputs ElectricStorage size_kwh\n",
      "error on  inputs ElectricStorage installed_cost_per_kw\n",
      "error on  outputs ElectricStorage size_kw\n",
      "error on  inputs AbsorptionChiller installed_cost_per_ton\n",
      "error on  outputs AbsorptionChiller size_ton\n",
      "error on  inputs HotThermalStorage installed_cost_per_gal\n",
      "error on  outputs HotThermalStorage size_gal\n",
      "error on  inputs ColdThermalStorage installed_cost_per_gal\n",
      "error on  outputs ColdThermalStorage size_gal\n",
      "error on  inputs SteamTurbine installed_cost_per_kw\n",
      "error on  outputs GHP size_heat_pump_ton\n",
      "error on  inputs GHP installed_cost_heatpump_per_ton\n",
      "error on  inputs GHP installed_cost_ghx_per_ft\n",
      "error on  inputs GHP building_sqft\n",
      "error on  inputs GHP installed_cost_building_hydronic_loop_per_sqft\n",
      "error on  inputs Wind om_cost_per_kw\n",
      "error on  outputs Generator annual_fuel_consumption_gal\n",
      "error on  outputs Generator annual_fuel_consumption_gal_bau\n",
      "error on  inputs ElectricStorage replace_cost_per_kw\n",
      "error on  inputs ElectricStorage inverter_replacement_year\n",
      "error on  inputs ElectricStorage replace_cost_per_kwh\n",
      "error on  inputs ElectricStorage battery_replacement_year\n",
      "error on  inputs AbsorptionChiller om_cost_per_ton\n",
      "error on  inputs ColdThermalStorage om_cost_per_gal\n",
      "error on  inputs HotThermalStorage om_cost_per_gal\n",
      "error on  inputs SteamTurbine om_cost_per_kw\n",
      "error on  inputs SteamTurbine om_cost_per_kwh\n",
      "error on  inputs GHP building_sqft\n",
      "error on  inputs GHP om_cost_per_sqft_year\n",
      "error on  inputs Wind federal_itc_fraction\n",
      "error on  inputs Wind state_ibi_fraction\n",
      "error on  inputs Wind utility_ibi_fraction\n",
      "error on  inputs Wind state_ibi_max\n",
      "error on  inputs Wind utility_ibi_max\n",
      "error on  inputs Wind production_incentive_per_kwh\n",
      "error on  inputs Wind production_incentive_max_benefit\n",
      "error on  inputs Wind production_incentive_years\n",
      "error on  inputs Wind production_incentive_max_kw\n",
      "error on  inputs ElectricStorage macrs_option_years\n",
      "error on  inputs ElectricStorage macrs_bonus_fraction\n",
      "error on  inputs Wind macrs_option_years\n",
      "error on  inputs Wind macrs_bonus_fraction\n",
      "error on  inputs AbsorptionChiller macrs_option_years\n",
      "error on  inputs AbsorptionChiller macrs_bonus_fraction\n",
      "error on  inputs HotThermalStorage macrs_option_years\n",
      "error on  inputs HotThermalStorage macrs_bonus_fraction\n",
      "error on  inputs ColdThermalStorage macrs_option_years\n",
      "error on  inputs ColdThermalStorage macrs_bonus_fraction\n",
      "error on  inputs SteamTurbine macrs_option_years\n",
      "error on  inputs SteamTurbine macrs_bonus_fraction\n",
      "error on  inputs GHP macrs_option_years\n",
      "error on  inputs GHP macrs_bonus_fraction\n",
      "error on  inputs Wind macrs_option_years\n",
      "error on  inputs Wind macrs_option_years\n",
      "error on  inputs ElectricStorage macrs_option_years\n",
      "error on  inputs ElectricStorage macrs_option_years\n",
      "error on  inputs AbsorptionChiller macrs_option_years\n",
      "error on  inputs AbsorptionChiller macrs_option_years\n",
      "error on  inputs HotTES macrs_option_years\n",
      "error on  inputs HotTES macrs_option_years\n",
      "error on  inputs ColdTES macrs_option_years\n",
      "error on  inputs ColdTES macrs_option_years\n",
      "error on  inputs SteamTurbine macrs_option_years\n",
      "error on  inputs SteamTurbine macrs_option_years\n",
      "error on  inputs GHP macrs_option_years\n",
      "error on  inputs GHP macrs_option_years\n"
     ]
    }
   ],
   "source": [
    "d, o = setup_formatting(proforma)\n",
    "proforma = setup_in_and_out_sheet(results, proforma, mapping, mapping_static, d, base_upper_case_letters)\n",
    "proforma = setup_optimal_sheet(results, proforma, mapping, o, base_upper_case_letters)\n",
    "proforma = setup_baucashflow_sheet(results, proforma, mapping, o, d, base_upper_case_letters)"
   ]
  },
  {
   "cell_type": "code",
   "execution_count": 7,
   "id": "9149aff3-417f-465c-ac92-0fdaffa646a7",
   "metadata": {},
   "outputs": [],
   "source": [
    "proforma.close()"
   ]
  },
  {
   "cell_type": "code",
   "execution_count": null,
   "id": "db811d27-8537-454f-ba96-83219822c7ca",
   "metadata": {},
   "outputs": [],
   "source": []
  }
 ],
 "metadata": {
  "kernelspec": {
   "display_name": "Python 3 (ipykernel)",
   "language": "python",
   "name": "python3"
  },
  "language_info": {
   "codemirror_mode": {
    "name": "ipython",
    "version": 3
   },
   "file_extension": ".py",
   "mimetype": "text/x-python",
   "name": "python",
   "nbconvert_exporter": "python",
   "pygments_lexer": "ipython3",
   "version": "3.10.11"
  },
  "vscode": {
   "interpreter": {
    "hash": "f2ceeda33ac2dc9a242d9ed132d90d8802ad5359fd328d062f6fba58bea26793"
   }
  }
 },
 "nbformat": 4,
 "nbformat_minor": 5
}
